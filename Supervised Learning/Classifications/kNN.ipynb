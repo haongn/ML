{
 "cells": [
  {
   "cell_type": "markdown",
   "id": "3a03e556",
   "metadata": {},
   "source": [
    "## Outline: "
   ]
  },
  {
   "cell_type": "markdown",
   "id": "31745055",
   "metadata": {},
   "source": [
    "### 1. Giới thiệu và một số lưu ý. \n",
    "### 2. Ví dụ trên Python (Iris flower dataset)\n",
    "### 3. Phương pháp đánh giá (Evaluation method)\n",
    "### 4. Đánh trọng số cho các điểm lân cận\n",
    "### 5. Chuẩn hóa DL \n",
    "### 6. Ưu điểm của KNN \n",
    "### 7. Nhược điểm của KNN"
   ]
  },
  {
   "cell_type": "markdown",
   "id": "4945cdc2",
   "metadata": {},
   "source": [
    "Bắt đầu:"
   ]
  },
  {
   "cell_type": "markdown",
   "id": "7649e685",
   "metadata": {},
   "source": [
    "### 1. Giới thiệu và một số lưu ý "
   ]
  },
  {
   "cell_type": "markdown",
   "id": "570affc3",
   "metadata": {},
   "source": [
    "Thuật toán này được xếp vào loại lazy learning."
   ]
  },
  {
   "cell_type": "markdown",
   "id": "6430ee62",
   "metadata": {},
   "source": [
    "Với KNN, trong bài toán Classification, label của một điểm dữ liệu mới (hay kết quả của câu hỏi trong bài thi) được suy ra trực tiếp từ K điểm dữ liệu gần nhất trong training set."
   ]
  },
  {
   "cell_type": "markdown",
   "id": "fdf008bb",
   "metadata": {},
   "source": [
    "Label của một test data có thể được quyết định bằng major voting (bầu chọn theo số phiếu - tức label nào có nhiều điểm nhất thì sẽ được chọn) giữa các điểm gần nhất, hoặc nó có thể được suy ra bằng cách đánh trọng số khác nhau cho mỗi trong các điểm gần nhất đó rồi suy ra label."
   ]
  },
  {
   "cell_type": "markdown",
   "id": "19ce0127",
   "metadata": {},
   "source": [
    "Trong bài toán Regresssion, đầu ra của một điểm dữ liệu sẽ bằng chính đầu ra của điểm dữ liệu đã biết gần nhất (trong trường hợp K=1), hoặc là trung bình có trọng số của đầu ra của những điểm gần nhất, hoặc bằng một mối quan hệ dựa trên khoảng cách tới các điểm gần nhất đó."
   ]
  },
  {
   "cell_type": "markdown",
   "id": "095c1ea3",
   "metadata": {},
   "source": [
    "Một cách ngắn gọn, KNN là thuật toán đi tìm đầu ra của một điểm dữ liệu mới bằng cách chỉ dựa trên thông tin của K điểm dữ liệu trong training set gần nó nhất (K-lân cận), **không quan tâm đến việc có một vài điểm dữ liệu trong những điểm gần nhất này là nhiễu**. "
   ]
  },
  {
   "cell_type": "markdown",
   "id": "54a8ad2c",
   "metadata": {},
   "source": [
    "Có một điều đáng lưu ý là KNN phải nhớ tất cả các điểm dữ liệu training, việc này không được lợi về cả bộ nhớ và thời gian tính toán - giống như khi cậu bạn của chúng ta không tìm được câu trả lời cho câu hỏi cuối cùng."
   ]
  },
  {
   "cell_type": "markdown",
   "id": "7b8c18e6",
   "metadata": {},
   "source": [
    "### 2. Ví dụ trên Python"
   ]
  },
  {
   "cell_type": "markdown",
   "id": "30411946",
   "metadata": {},
   "source": [
    "Ta sẻ sử dụng bộ dữ liệu Iris (Iris flower dataset). Trong phần này, chúng ta sẽ tách 150 dữ liệu trong Iris flower dataset ra thành 2 phần, gọi là training set và test set."
   ]
  },
  {
   "cell_type": "markdown",
   "id": "da330c5b",
   "metadata": {},
   "source": [
    "Thuật toán KNN sẽ dựa vào trông tin ở training set để dự đoán xem mỗi dữ liệu trong test set tương ứng với loại hoa nào."
   ]
  },
  {
   "cell_type": "markdown",
   "id": "01b8cf0b",
   "metadata": {},
   "source": [
    "Dữ liệu được dự đoán này sẽ được đối chiếu với loại hoa thật của mỗi dữ liệu trong test set để đánh giá hiệu quả của KNN."
   ]
  },
  {
   "cell_type": "code",
   "execution_count": 4,
   "id": "5c503d38",
   "metadata": {},
   "outputs": [],
   "source": [
    "# iris flower dataset có sẵn trong thư viên scikit-learn\n",
    "import numpy as np \n",
    "import matplotlib.pyplot as plt \n",
    "from sklearn import neighbors, datasets"
   ]
  },
  {
   "cell_type": "code",
   "execution_count": 5,
   "id": "c320baa7",
   "metadata": {},
   "outputs": [],
   "source": [
    "# load DL và hiển thị vài dữ liệu mẫu: các class được gán nhãn là 0, 1 và 2. \n",
    "iris = datasets.load_iris()\n",
    "iris_X = iris.data\n",
    "iris_y = iris.target"
   ]
  },
  {
   "cell_type": "code",
   "execution_count": 6,
   "id": "3618691d",
   "metadata": {},
   "outputs": [
    {
     "data": {
      "text/plain": [
       "sklearn.utils.Bunch"
      ]
     },
     "execution_count": 6,
     "metadata": {},
     "output_type": "execute_result"
    }
   ],
   "source": [
    "type(iris)     # la mot dictionary rat lon "
   ]
  },
  {
   "cell_type": "code",
   "execution_count": 10,
   "id": "9e266674",
   "metadata": {},
   "outputs": [
    {
     "name": "stdout",
     "output_type": "stream",
     "text": [
      "Numer of classes: 3\n",
      "Number of data points: 150\n"
     ]
    }
   ],
   "source": [
    "# dem so luong class va so luong data point: \n",
    "print('Numer of classes: %d' % len(np.unique(iris_y)))\n",
    "print('Number of data points: %d' % len(iris_y))"
   ]
  },
  {
   "cell_type": "code",
   "execution_count": 16,
   "id": "c6d8b02b",
   "metadata": {},
   "outputs": [
    {
     "name": "stdout",
     "output_type": "stream",
     "text": [
      "Samples from class 0: [[5.1 3.5 1.4 0.2]\n",
      " [4.9 3.  1.4 0.2]\n",
      " [4.7 3.2 1.3 0.2]\n",
      " [4.6 3.1 1.5 0.2]\n",
      " [5.  3.6 1.4 0.2]]\n",
      "Samples from class 1: [[7.  3.2 4.7 1.4]\n",
      " [6.4 3.2 4.5 1.5]\n",
      " [6.9 3.1 4.9 1.5]\n",
      " [5.5 2.3 4.  1.3]\n",
      " [6.5 2.8 4.6 1.5]]\n",
      "Samples from class 2: [[6.3 3.3 6.  2.5]\n",
      " [5.8 2.7 5.1 1.9]\n",
      " [7.1 3.  5.9 2.1]\n",
      " [6.3 2.9 5.6 1.8]\n",
      " [6.5 3.  5.8 2.2]]\n"
     ]
    }
   ],
   "source": [
    "# lay thu cac sample tu cac class: \n",
    "X0 = iris_X[iris_y == 0,:]\n",
    "print('Samples from class 0:', X0[:5,:])\n",
    "\n",
    "X1 = iris_X[iris_y == 1,:]\n",
    "print('Samples from class 1:', X1[:5,:])\n",
    "\n",
    "X2 = iris_X[iris_y == 2,:]\n",
    "print('Samples from class 2:', X2[:5,:])"
   ]
  },
  {
   "cell_type": "markdown",
   "id": "bb7b8766",
   "metadata": {},
   "source": [
    "Nhận xét: Nếu nhìn vào vài dữ liệu mẫu, chúng ta thấy rằng hai cột cuối mang khá nhiều thông tin giúp chúng ta có thể phân biệt được chúng (vì dữ liệu có sự khác biệt rất lớn giữa các class). Chúng ta dự đoán rằng kết quả classification cho cơ sở dữ liệu này sẽ tương đối cao."
   ]
  },
  {
   "cell_type": "markdown",
   "id": "d8ea5382",
   "metadata": {},
   "source": [
    "### Tách training và test set:"
   ]
  },
  {
   "cell_type": "code",
   "execution_count": 19,
   "id": "39aa5088",
   "metadata": {},
   "outputs": [
    {
     "name": "stdout",
     "output_type": "stream",
     "text": [
      "Training size: 100\n",
      "Test size: 50\n"
     ]
    }
   ],
   "source": [
    "# ta dùng 50 điểm DL cho test set, 100 điểm còn lại cho training set. \n",
    "# scikit-learn có một hàm số cho phép ta ngẫu nhiên lựa chọn các điểm này: \n",
    "from sklearn.model_selection import train_test_split\n",
    "\n",
    "X_train, X_test, y_train, y_test = train_test_split(iris_X, iris_y, test_size = 50)\n",
    "\n",
    "print('Training size: %d' % (len(y_train)))\n",
    "print('Test size: %d' % (len(y_test)))"
   ]
  },
  {
   "cell_type": "markdown",
   "id": "323775f8",
   "metadata": {},
   "source": [
    "### Ta xét trường hợp đơn giản K = 1 (tức với mỗi điểm test data, ta chỉ xét một điểm training data gần nhất và lấy label của điểm đó để dự đoán cho điểm test này. "
   ]
  },
  {
   "cell_type": "code",
   "execution_count": 20,
   "id": "f2d0b72e",
   "metadata": {},
   "outputs": [
    {
     "name": "stdout",
     "output_type": "stream",
     "text": [
      "Print results for 20 test data points:\n",
      "Predicted labels:  [1 0 0 2 0 1 0 2 0 2 2 1 1 0 2 2 1 1 2 0]\n",
      "Ground truth    :  [1 0 0 2 0 1 0 2 0 2 2 1 1 0 2 2 1 1 2 0]\n"
     ]
    }
   ],
   "source": [
    "clf = neighbors.KNeighborsClassifier(n_neighbors = 1, p = 2)  # p = 2: khoảng cách theo norm 2.\n",
    "clf.fit(X_train, y_train)       # train data\n",
    "\n",
    "# test data: \n",
    "y_pred = clf.predict(X_test)\n",
    "\n",
    "print(\"Print results for 20 test data points:\")\n",
    "print(\"Predicted labels: \", y_pred[20:40])\n",
    "print(\"Ground truth    : \", y_test[20:40])"
   ]
  },
  {
   "cell_type": "markdown",
   "id": "aaff4040",
   "metadata": {},
   "source": [
    "Nhận xét về dự đoán: Kết quả cho thấy label dự đoán gần giống với label thật của test data, chỉ có 2 điểm trong số 20 điểm được hiển thị có kết quả sai lệch."
   ]
  },
  {
   "cell_type": "markdown",
   "id": "5f59da15",
   "metadata": {},
   "source": [
    "ground truth: là nhãn/label/đầu ra thực sự của các điểm trong test data."
   ]
  },
  {
   "cell_type": "markdown",
   "id": "0beac760",
   "metadata": {},
   "source": [
    "### 3. Phương pháp đánh giá (evaluation method)"
   ]
  },
  {
   "cell_type": "markdown",
   "id": "d617f793",
   "metadata": {},
   "source": [
    "Cách đánh giá: xem xem có bao nhiêu điểm trong test data được dự đoán đúng. Lấy số lượng này chia cho tổng số lượng trong tập test data sẽ ra độ chính xác."
   ]
  },
  {
   "cell_type": "markdown",
   "id": "c23d14ed",
   "metadata": {},
   "source": [
    "Scikit-learn cung cấp hàm số accuracy_score để thực hiện công việc này."
   ]
  },
  {
   "cell_type": "code",
   "execution_count": 21,
   "id": "2927dfac",
   "metadata": {},
   "outputs": [
    {
     "name": "stdout",
     "output_type": "stream",
     "text": [
      "Accuracy of 1NN: 96.00 %\n"
     ]
    }
   ],
   "source": [
    "from sklearn.metrics import accuracy_score\n",
    "\n",
    "print('Accuracy of 1NN: %.2f %%' %(100*accuracy_score(y_test, y_pred)))  \n",
    "# bản chất của hàm accuracy_score là phép chia lấy tỉ lệ thông thường"
   ]
  },
  {
   "cell_type": "markdown",
   "id": "b979bb4c",
   "metadata": {},
   "source": [
    "Chú ý: đây là một cơ sở dữ liệu dễ vì chỉ với dữ liệu ở hai cột cuối cùng, chúng ta đã có thể suy ra quy luật."
   ]
  },
  {
   "cell_type": "code",
   "execution_count": 22,
   "id": "a3fcb1d7",
   "metadata": {},
   "outputs": [
    {
     "name": "stdout",
     "output_type": "stream",
     "text": [
      "Accuracy of 1NN: 96.00 %\n"
     ]
    }
   ],
   "source": [
    "# thử tính theo norm 1:\n",
    "from sklearn import neighbors \n",
    "from sklearn.metrics import accuracy_score\n",
    "\n",
    "clf = neighbors.KNeighborsClassifier(n_neighbors = 1, p = 1) \n",
    "clf.fit(X_train, y_train)       # train data\n",
    "\n",
    "# test data: \n",
    "y_pred = clf.predict(X_test)\n",
    "\n",
    "print('Accuracy of 1NN: %.2f %%' %(100*accuracy_score(y_test, y_pred)))  \n",
    "# bản chất của hàm accuracy_score là phép chia lấy tỉ lệ thông thường"
   ]
  },
  {
   "cell_type": "markdown",
   "id": "c66e6991",
   "metadata": {},
   "source": [
    "Nhận xét: Norm 1 còn cho độ chính xác cao hơn cả norm 2."
   ]
  },
  {
   "cell_type": "markdown",
   "id": "9fbb5f65",
   "metadata": {},
   "source": [
    "Nhận xét: chỉ xét 1 điểm gần nhất có thể dẫn đến kết quả sai nếu điểm đó là nhiễu. Một cách có thể làm tăng độ chính xác là tăng số lượng điểm lân cận lên, ví dụ 10 điểm, và xem xem trong 10 điểm gần nhất, class nào chiếm đa số thì dự đoán kết quả là class đó. Kỹ thuật dựa vào đa số này được gọi là **major voting**."
   ]
  },
  {
   "cell_type": "code",
   "execution_count": 27,
   "id": "ffb52aee",
   "metadata": {},
   "outputs": [
    {
     "name": "stdout",
     "output_type": "stream",
     "text": [
      "Accuracy of 10NN with major voting: 92.00 %\n"
     ]
    }
   ],
   "source": [
    "from sklearn import neighbors \n",
    "from sklearn.metrics import accuracy_score\n",
    "\n",
    "clf = neighbors.KNeighborsClassifier(n_neighbors = 10, p = 2)\n",
    "clf.fit(X_train, y_train)\n",
    "y_pred = clf.predict(X_test)\n",
    "\n",
    "print(\"Accuracy of 10NN with major voting: %.2f %%\" %(100*accuracy_score(y_test, y_pred)))"
   ]
  },
  {
   "cell_type": "markdown",
   "id": "19bb3453",
   "metadata": {},
   "source": [
    "Nhận xét: 10 điểm dữ liệu có độ chính xác thấp, nghe có vẻ khó tin khi mà dữ liệu ở hai cột cuối cùng phân cụm khá rõ ràng và tách biệt với nhau. Có vẻ như số neighbors lớn quá cũng có thể làm giảm độ chính xác của thuật toán."
   ]
  },
  {
   "cell_type": "code",
   "execution_count": 25,
   "id": "79cd69c0",
   "metadata": {},
   "outputs": [
    {
     "name": "stdout",
     "output_type": "stream",
     "text": [
      "Accuracy of 10NN with major voting: 96.00 %\n"
     ]
    }
   ],
   "source": [
    "# thử với số neighbors = 5\n",
    "\n",
    "from sklearn import neighbors \n",
    "from sklearn.metrics import accuracy_score\n",
    "\n",
    "clf = neighbors.KNeighborsClassifier(n_neighbors = 5, p = 2)\n",
    "clf.fit(X_train, y_train)\n",
    "y_pred = clf.predict(X_test)\n",
    "\n",
    "print(\"Accuracy of 10NN with major voting: %.2f %%\" %(100*accuracy_score(y_test, y_pred)))"
   ]
  },
  {
   "cell_type": "markdown",
   "id": "8af06737",
   "metadata": {},
   "source": [
    "Độ chính xác đã được cải thiện."
   ]
  },
  {
   "cell_type": "code",
   "execution_count": 26,
   "id": "bfe49171",
   "metadata": {},
   "outputs": [
    {
     "name": "stdout",
     "output_type": "stream",
     "text": [
      "Accuracy of 10NN with major voting: 96.00 %\n"
     ]
    }
   ],
   "source": [
    "# n = 3\n",
    "\n",
    "from sklearn import neighbors \n",
    "from sklearn.metrics import accuracy_score\n",
    "\n",
    "clf = neighbors.KNeighborsClassifier(n_neighbors = 3, p = 2)\n",
    "clf.fit(X_train, y_train)\n",
    "y_pred = clf.predict(X_test)\n",
    "\n",
    "print(\"Accuracy of 10NN with major voting: %.2f %%\" %(100*accuracy_score(y_test, y_pred)))"
   ]
  },
  {
   "cell_type": "markdown",
   "id": "51a533e0",
   "metadata": {},
   "source": [
    "Độ chính xác bằng với n = 5. "
   ]
  },
  {
   "cell_type": "markdown",
   "id": "e658312a",
   "metadata": {},
   "source": [
    "### 4. Đánh trọng số cho các điểm lân cận. "
   ]
  },
  {
   "cell_type": "markdown",
   "id": "0d564388",
   "metadata": {},
   "source": [
    "Trong kỹ thuật major voting bên trên, mỗi trong 10 điểm gần nhất được coi là có vai trò như nhau và giá trị lá phiếu của mỗi điểm này là như nhau. Tôi cho rằng như thế là không công bằng, vì rõ ràng rằng những điểm gần hơn nên có trọng số cao hơn (càng thân cận thì càng tin tưởng). Vậy nên tôi sẽ đánh trọng số khác nhau cho mỗi trong 10 điểm gần nhất này."
   ]
  },
  {
   "cell_type": "markdown",
   "id": "1010b076",
   "metadata": {},
   "source": [
    "Cách đánh trọng số phải thoải mãn điều kiện là một điểm càng gần điểm test data thì phải được đánh trọng số càng cao (tin tưởng hơn). Cách đơn giản nhất là lấy nghịch đảo của khoảng cách này. (Trong trường hợp test data trùng với 1 điểm dữ liệu trong training data, tức khoảng cách bằng 0, ta lấy luôn label của điểm training data)."
   ]
  },
  {
   "cell_type": "markdown",
   "id": "e920eae7",
   "metadata": {},
   "source": [
    "Scikit-learn giúp chúng ta đơn giản hóa việc này bằng cách gán gía trị weights = 'distance'. (Giá trị mặc định của weights là 'uniform', tương ứng với việc coi tất cả các điểm lân cận có giá trị như nhau như ở trên)."
   ]
  },
  {
   "cell_type": "code",
   "execution_count": 29,
   "id": "b9b9b0f4",
   "metadata": {},
   "outputs": [
    {
     "name": "stdout",
     "output_type": "stream",
     "text": [
      "Accuracy of 10NN (1/distance weights): 92.00 %\n"
     ]
    }
   ],
   "source": [
    "from sklearn import neighbors \n",
    "from sklearn.metrics import accuracy_score\n",
    "\n",
    "# clf là viết tắt của classifier \n",
    "clf = neighbors.KNeighborsClassifier(n_neighbors = 10, p = 2, weights = 'distance')   # trọng số = kh/cách\n",
    "\n",
    "clf.fit(X_train, y_train)\n",
    "\n",
    "y_pred = clf.predict(X_test)\n",
    "\n",
    "print(\"Accuracy of 10NN (1/distance weights): %.2f %%\" %(100*accuracy_score(y_test, y_pred)))"
   ]
  },
  {
   "cell_type": "markdown",
   "id": "a5dcd3a7",
   "metadata": {},
   "source": [
    "??? ủa, sao lại khác với code mẫu??? code mấu cho kết quả là 100%??? có vẻ như bộ DL sử dụng là khác nhau rồi."
   ]
  },
  {
   "cell_type": "code",
   "execution_count": 36,
   "id": "6990fb88",
   "metadata": {},
   "outputs": [
    {
     "name": "stdout",
     "output_type": "stream",
     "text": [
      "Accuracy of 10NN (1/distance weights): 98.00 %\n"
     ]
    }
   ],
   "source": [
    "# thử thay đổi số neighbors đi, giảm đi \n",
    "from sklearn import neighbors \n",
    "from sklearn.metrics import accuracy_score\n",
    "\n",
    "# clf là viết tắt của classifier \n",
    "clf = neighbors.KNeighborsClassifier(n_neighbors = 5, p = 2, weights = 'distance')   # trọng số = kh/cách\n",
    "\n",
    "clf.fit(X_train, y_train)\n",
    "\n",
    "y_pred = clf.predict(X_test)\n",
    "\n",
    "print(\"Accuracy of 10NN (1/distance weights): %.2f %%\" %(100*accuracy_score(y_test, y_pred)))"
   ]
  },
  {
   "cell_type": "markdown",
   "id": "cc23c14b",
   "metadata": {},
   "source": [
    "### Cách đánh trọng số sử dụng hàm exp"
   ]
  },
  {
   "cell_type": "code",
   "execution_count": 41,
   "id": "d287cbba",
   "metadata": {},
   "outputs": [
    {
     "name": "stdout",
     "output_type": "stream",
     "text": [
      "Accuracy of 10NN (customized weights): 96.00 %\n"
     ]
    }
   ],
   "source": [
    "def myweight(distances): \n",
    "    sigma2 = .5          # we can change this number \n",
    "    return np.exp(-distances ** 2 / sigma2)\n",
    "\n",
    "clf = neighbors.KNeighborsClassifier(n_neighbors = 5, p = 2, weights = myweight)  # gán hàm vừa định nghĩa ở trên trực tiếp làm đối số luôn \n",
    "\n",
    "clf.fit(X_train, y_train)\n",
    "\n",
    "y_pred = clf.predict(X_test)\n",
    "\n",
    "print(\"Accuracy of 10NN (customized weights): %.2f %%\" %(100*accuracy_score(y_test, y_pred)))"
   ]
  },
  {
   "cell_type": "markdown",
   "id": "66fbe935",
   "metadata": {},
   "source": [
    "Nhận xét: Để đánh giá chính xác hơn kết quả của KNN với K khác nhau, cách định nghĩa khoảng cách khác nhau và cách đánh trọng số khác nhau, chúng ta cần thực hiện quá trình trên với nhiều cách chia dữ liệu training và test khác nhau rồi lấy kết quả trung bình, vì rất có thể dữ liệu phân chia trong 1 trường hợp cụ thể là rất tốt hoặc rất xấu (bias). Đây cũng là cách thường được dùng khi đánh giá hiệu năng của một thuật toán cụ thể nào đó."
   ]
  },
  {
   "cell_type": "markdown",
   "id": "8d15c474",
   "metadata": {},
   "source": [
    "### 5. Chuẩn hóa dữ liệu"
   ]
  },
  {
   "cell_type": "markdown",
   "id": "9e869be8",
   "metadata": {},
   "source": [
    "Data Normalization (chuẩn hóa dữ liệu): đưa các thuộc tính có đơn vị đo khác nhau về cùng một khoảng giá trị, thường là từ 0 đến 1, trước khi thực hiện KNN."
   ]
  },
  {
   "cell_type": "markdown",
   "id": "e1759ac2",
   "metadata": {},
   "source": [
    "### 6. Ưu điểm của KNN\n",
    "Độ phức tạp tính toán của quá trình training là bằng 0.\n",
    "Việc dự đoán kết quả của dữ liệu mới rất đơn giản.\n",
    "Không cần giả sử gì về phân phối của các class.\n",
    "\n",
    "### 7. Nhược điểm của KNN\n",
    "KNN rất nhạy cảm với nhiễu khi K nhỏ.\n",
    "Như đã nói, KNN là một thuật toán mà mọi tính toán đều nằm ở khâu test. Trong đó việc tính khoảng cách tới từng điểm dữ liệu trong training set sẽ tốn rất nhiều thời gian, đặc biệt là với các cơ sở dữ liệu có số chiều lớn và có nhiều điểm dữ liệu. Với K càng lớn thì độ phức tạp cũng sẽ tăng lên. Ngoài ra, việc lưu toàn bộ dữ liệu trong bộ nhớ cũng ảnh hưởng tới hiệu năng của KNN."
   ]
  },
  {
   "cell_type": "markdown",
   "id": "63fe88fa",
   "metadata": {},
   "source": [
    "Lời khuyên: nên dùng kNN khi kích thước của bộ DL nhỏ đến vừa phải, nếu tập DL lớn thì nên dùng thuật toán khác."
   ]
  },
  {
   "cell_type": "code",
   "execution_count": null,
   "id": "0500ac83",
   "metadata": {},
   "outputs": [],
   "source": []
  },
  {
   "cell_type": "code",
   "execution_count": null,
   "id": "d9505b64",
   "metadata": {},
   "outputs": [],
   "source": []
  },
  {
   "cell_type": "code",
   "execution_count": null,
   "id": "028dc86d",
   "metadata": {},
   "outputs": [],
   "source": []
  },
  {
   "cell_type": "code",
   "execution_count": null,
   "id": "5d21e041",
   "metadata": {},
   "outputs": [],
   "source": []
  },
  {
   "cell_type": "code",
   "execution_count": null,
   "id": "a61009ce",
   "metadata": {},
   "outputs": [],
   "source": []
  },
  {
   "cell_type": "code",
   "execution_count": null,
   "id": "61edc8ab",
   "metadata": {},
   "outputs": [],
   "source": []
  },
  {
   "cell_type": "code",
   "execution_count": null,
   "id": "aa8003a3",
   "metadata": {},
   "outputs": [],
   "source": []
  },
  {
   "cell_type": "code",
   "execution_count": null,
   "id": "0318943e",
   "metadata": {},
   "outputs": [],
   "source": []
  },
  {
   "cell_type": "code",
   "execution_count": null,
   "id": "9e089ac4",
   "metadata": {},
   "outputs": [],
   "source": []
  },
  {
   "cell_type": "code",
   "execution_count": null,
   "id": "f573f9c7",
   "metadata": {},
   "outputs": [],
   "source": []
  },
  {
   "cell_type": "code",
   "execution_count": null,
   "id": "1ae9da05",
   "metadata": {},
   "outputs": [],
   "source": []
  },
  {
   "cell_type": "code",
   "execution_count": null,
   "id": "1765400a",
   "metadata": {},
   "outputs": [],
   "source": []
  },
  {
   "cell_type": "code",
   "execution_count": null,
   "id": "6205a13a",
   "metadata": {},
   "outputs": [],
   "source": []
  },
  {
   "cell_type": "code",
   "execution_count": null,
   "id": "f6df2761",
   "metadata": {},
   "outputs": [],
   "source": []
  },
  {
   "cell_type": "code",
   "execution_count": null,
   "id": "d69afa6e",
   "metadata": {},
   "outputs": [],
   "source": []
  },
  {
   "cell_type": "code",
   "execution_count": null,
   "id": "eb84db05",
   "metadata": {},
   "outputs": [],
   "source": []
  }
 ],
 "metadata": {
  "kernelspec": {
   "display_name": "Python 3 (ipykernel)",
   "language": "python",
   "name": "python3"
  },
  "language_info": {
   "codemirror_mode": {
    "name": "ipython",
    "version": 3
   },
   "file_extension": ".py",
   "mimetype": "text/x-python",
   "name": "python",
   "nbconvert_exporter": "python",
   "pygments_lexer": "ipython3",
   "version": "3.8.3"
  }
 },
 "nbformat": 4,
 "nbformat_minor": 5
}
